{
 "cells": [
  {
   "cell_type": "code",
   "execution_count": null,
   "metadata": {},
   "outputs": [],
   "source": [
    "import numpy as np\n",
    "\n",
    "data = np.array(np.random.randint(1, 100, size=25)).reshape(5, 5)\n",
    "print(\"Original data:\\n\", data)\n",
    "\n",
    "data[[1, 3]] = data[[3, 1]]\n",
    "print(\"Data after swapping second and fourth rows:\\n\", data)\n",
    "\n",
    "normalized_data = (data - np.min(data)) / (np.max(data) - np.min(data))\n",
    "print(\"Normalized data:\\n\", normalized_data)\n",
    "\n",
    "z_score_data = (data - np.mean(data)) / np.std(data)\n",
    "print(\"Z-score normalized data:\\n\", z_score_data)\n",
    "\n",
    "flattened_data = np.ravel(data)\n",
    "split_data = np.array_split(flattened_data, 5)\n",
    "print(\"Split data arrays:\\n\", split_data)\n",
    "\n",
    "vector1 = np.array([3, 5, 6, 7, 8])\n",
    "vector2 = np.array([2, 4, 6, 8, 10])\n",
    "dot_product = np.dot(vector1, vector2)\n",
    "print(\"Dot product of vectors:\\n\", dot_product)\n",
    "\n",
    "data2 = np.random.randint(1, 10, size=(3, 3))\n",
    "matrix_mult = np.dot(data[:3, :3], data2)\n",
    "print(\"Matrix multiplication result:\\n\", matrix_mult)\n",
    "\n",
    "identity_matrix = np.eye(3) * 2\n",
    "inverse_matrix = np.linalg.inv(identity_matrix)\n",
    "print(\"Inverse of the matrix:\\n\", inverse_matrix)\n",
    "\n",
    "eigenvalues, eigenvectors = np.linalg.eig(data[:3, :3])\n",
    "print(\"Eigenvalues:\\n\", eigenvalues)\n",
    "print(\"Eigenvectors:\\n\", eigenvectors)\n",
    "\n",
    "data_with_nan = data.copy()\n",
    "nan_indices = np.random.choice(data.size, 5, replace=False)\n",
    "data_with_nan.flat[nan_indices] = np.nan\n",
    "print(\"Data with NaNs:\\n\", data_with_nan)\n",
    "missing_values_indices = np.where(np.isnan(data_with_nan))\n",
    "print(\"Indices of missing values:\\n\", missing_values_indices)\n",
    "\n",
    "mean_value = np.nanmean(data_with_nan)\n",
    "data_with_nan[np.isnan(data_with_nan)] = mean_value\n",
    "print(\"Data after replacing missing values:\\n\", data_with_nan)\n"
   ]
  }
 ],
 "metadata": {
  "language_info": {
   "name": "python"
  }
 },
 "nbformat": 4,
 "nbformat_minor": 2
}
