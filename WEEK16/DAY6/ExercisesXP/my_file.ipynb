{
 "cells": [
  {
   "cell_type": "code",
   "execution_count": 1,
   "metadata": {},
   "outputs": [
    {
     "name": "stdout",
     "output_type": "stream",
     "text": [
      "[0. 0. 0. 0. 0. 0. 0. 0. 0. 0.]\n"
     ]
    }
   ],
   "source": [
    "#Exercise 1\n",
    "import numpy as np\n",
    "\n",
    "zero_vector = np.zeros(10)\n",
    "print(\"Zero vector:\", zero_vector)\n"
   ]
  },
  {
   "cell_type": "code",
   "execution_count": null,
   "metadata": {},
   "outputs": [],
   "source": [
    "import numpy as np\n",
    "\n",
    "memory_size = zero_vector.size * zero_vector.itemsize\n",
    "print(\"Memory size:\", memory_size)\n",
    "\n",
    "np.info(np.add)"
   ]
  },
  {
   "cell_type": "code",
   "execution_count": null,
   "metadata": {},
   "outputs": [],
   "source": [
    "import numpy as np\n",
    "\n",
    "vector_10_to_49 = np.arange(10, 50)\n",
    "print(\"Vector 10 to 49:\", vector_10_to_49)"
   ]
  },
  {
   "cell_type": "code",
   "execution_count": null,
   "metadata": {},
   "outputs": [],
   "source": [
    "import numpy as np\n",
    "\n",
    "reversed_vector = vector_10_to_49[::-1]\n",
    "print(\"Reversed vector:\", reversed_vector)"
   ]
  },
  {
   "cell_type": "code",
   "execution_count": null,
   "metadata": {},
   "outputs": [],
   "source": [
    "import numpy as np\n",
    "\n",
    "matrix_3x3 = np.arange(9).reshape(3, 3)\n",
    "print(\"3x3 matrix:\\n\", matrix_3x3)"
   ]
  },
  {
   "cell_type": "code",
   "execution_count": null,
   "metadata": {},
   "outputs": [],
   "source": [
    "import numpy as np\n",
    "\n",
    "indices_nonzero = np.nonzero([1, 2, 0, 0, 4, 0])\n",
    "print(\"Indices of non-zero elements:\", indices_nonzero)"
   ]
  },
  {
   "cell_type": "code",
   "execution_count": null,
   "metadata": {},
   "outputs": [],
   "source": [
    "import numpy as np\n",
    "\n",
    "identity_matrix = np.eye(3)\n",
    "print(\"3x3 identity matrix:\\n\", identity_matrix)"
   ]
  },
  {
   "cell_type": "code",
   "execution_count": null,
   "metadata": {},
   "outputs": [],
   "source": [
    "import numpy as np\n",
    "\n",
    "row_matrix = np.tile(np.arange(5), (5, 1))\n",
    "print(\"5x5 matrix with row values from 0 to 4:\\n\", row_matrix)"
   ]
  },
  {
   "cell_type": "code",
   "execution_count": null,
   "metadata": {},
   "outputs": [],
   "source": [
    "import numpy as np\n",
    "\n",
    "vector_excluded = np.linspace(0, 1, 12)[1:-1]\n",
    "print(\"Vector from 0 to 1, excluded:\\n\", vector_excluded)"
   ]
  },
  {
   "cell_type": "code",
   "execution_count": null,
   "metadata": {},
   "outputs": [],
   "source": [
    "import numpy as np\n",
    "\n",
    "random_vector = np.random.rand(10)\n",
    "sorted_vector = np.sort(random_vector)\n",
    "print(\"Sorted random vector:\\n\", sorted_vector)"
   ]
  },
  {
   "cell_type": "code",
   "execution_count": null,
   "metadata": {},
   "outputs": [],
   "source": [
    "import numpy as np\n",
    "\n",
    "print(\"int8 min:\", np.iinfo(np.int8).min, \"max:\", np.iinfo(np.int8).max)\n",
    "print(\"int32 min:\", np.iinfo(np.int32).min, \"max:\", np.iinfo(np.int32).max)\n",
    "print(\"int64 min:\", np.iinfo(np.int64).min, \"max:\", np.iinfo(np.int64).max)\n",
    "print(\"float32 min:\", np.finfo(np.float32).min, \"max:\", np.finfo(np.float32).max)\n",
    "print(\"float64 min:\", np.finfo(np.float64).min, \"max:\", np.finfo(np.float64).max)"
   ]
  },
  {
   "cell_type": "code",
   "execution_count": null,
   "metadata": {},
   "outputs": [],
   "source": [
    "import numpy as np\n",
    "\n",
    "float_array = np.array([1.1, 2.2, 3.3, 4.4], dtype=np.float32)\n",
    "int_array = float_array.astype(np.int32)\n",
    "print(\"Converted integer array:\\n\", int_array)\n"
   ]
  },
  {
   "cell_type": "code",
   "execution_count": null,
   "metadata": {},
   "outputs": [],
   "source": [
    "import numpy as np\n",
    "\n",
    "matrix = np.array([[1, 2, 3], [4, 5, 6], [7, 8, 9]])\n",
    "row_means = matrix.mean(axis=1, keepdims=True)\n",
    "mean_subtracted_matrix = matrix - row_means\n",
    "print(\"Matrix with mean subtracted:\\n\", mean_subtracted_matrix)"
   ]
  },
  {
   "cell_type": "code",
   "execution_count": null,
   "metadata": {},
   "outputs": [],
   "source": [
    "import numpy as np\n",
    "\n",
    "array_2d = np.array([[3, 2, 1], [1, 3, 2], [2, 1, 3]])\n",
    "sorted_by_nth_column = array_2d[array_2d[:, 1].argsort()]\n",
    "print(\"Array sorted by nth column:\\n\", sorted_by_nth_column)"
   ]
  },
  {
   "cell_type": "code",
   "execution_count": null,
   "metadata": {},
   "outputs": [],
   "source": [
    "import numpy as np\n",
    "\n",
    "array_to_swap = np.array([[0, 1, 2], [3, 4, 5], [6, 7, 8]])\n",
    "array_to_swap[[0, 1]] = array_to_swap[[1, 0]]\n",
    "print(\"Array with swapped rows:\\n\", array_to_swap)"
   ]
  },
  {
   "cell_type": "code",
   "execution_count": null,
   "metadata": {},
   "outputs": [],
   "source": [
    "import numpy as np\n",
    "\n",
    "C = np.array([3, 2, 1])\n",
    "A = np.repeat(np.arange(len(C)), C)\n",
    "print(\"Array A such that np.bincount(A) == C:\\n\", A)"
   ]
  }
 ],
 "metadata": {
  "kernelspec": {
   "display_name": "Python 3",
   "language": "python",
   "name": "python3"
  },
  "language_info": {
   "codemirror_mode": {
    "name": "ipython",
    "version": 3
   },
   "file_extension": ".py",
   "mimetype": "text/x-python",
   "name": "python",
   "nbconvert_exporter": "python",
   "pygments_lexer": "ipython3",
   "version": "3.12.3"
  }
 },
 "nbformat": 4,
 "nbformat_minor": 2
}
