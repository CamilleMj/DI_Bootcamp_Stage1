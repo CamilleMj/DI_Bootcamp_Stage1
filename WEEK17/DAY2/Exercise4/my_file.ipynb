{
 "cells": [
  {
   "cell_type": "code",
   "execution_count": null,
   "metadata": {},
   "outputs": [],
   "source": [
    "#Exercise 4: Merge (All_data, All_data_col, Data3)\n",
    "import pandas as pd\n",
    "\n",
    "data1 = pd.DataFrame({\n",
    "    'ID': [1, 2, 3, 4],\n",
    "    'Name': ['Alice', 'Bob', 'Charlie', 'David']\n",
    "})\n",
    "\n",
    "data2 = pd.DataFrame({\n",
    "    'ID': [5, 6, 7, 8],\n",
    "    'Name': ['Eve', 'Frank', 'Grace', 'Hannah']\n",
    "})\n",
    "\n",
    "data3 = pd.DataFrame({\n",
    "    'ID': [1, 2, 3, 4],\n",
    "    'Score': [85, 90, 78, 92]\n",
    "})\n",
    "\n",
    "print(\"DataFrame data1:\")\n",
    "print(data1)\n",
    "\n",
    "print(\"\\nDataFrame data2:\")\n",
    "print(data2)\n",
    "\n",
    "print(\"\\nDataFrame data3:\")\n",
    "print(data3)\n"
   ]
  },
  {
   "cell_type": "code",
   "execution_count": null,
   "metadata": {},
   "outputs": [],
   "source": [
    "all_data = pd.concat([data1, data2], axis=0, ignore_index=True)\n",
    "print(\"\\nAll Data (Rows):\")\n",
    "print(all_data)\n"
   ]
  },
  {
   "cell_type": "code",
   "execution_count": null,
   "metadata": {},
   "outputs": [],
   "source": [
    "all_data_col = pd.concat([data1, data2], axis=1)\n",
    "print(\"\\nAll Data (Columns):\")\n",
    "print(all_data_col)\n"
   ]
  }
 ],
 "metadata": {
  "language_info": {
   "name": "python"
  }
 },
 "nbformat": 4,
 "nbformat_minor": 2
}
