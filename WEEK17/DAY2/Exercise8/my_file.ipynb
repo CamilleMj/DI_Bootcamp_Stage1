{
 "cells": [
  {
   "cell_type": "code",
   "execution_count": 1,
   "metadata": {},
   "outputs": [
    {
     "name": "stdout",
     "output_type": "stream",
     "text": [
      "DataFrame with Date, Temperature, Humidity, and Wind_Speed columns:\n",
      "        Date  Temperature  Humidity  Wind_Speed\n",
      "0 2021-01-01           30        80           5\n",
      "1 2021-01-02           31        75           6\n",
      "2 2021-01-03           29        70           7\n",
      "3 2021-01-04           32        85           8\n",
      "4 2021-01-05           33        90           9\n",
      "5 2021-01-06           34        80           4\n",
      "6 2021-01-07           28        75          10\n",
      "7 2021-01-08           27        60           5\n",
      "8 2021-01-09           25        65           6\n",
      "9 2021-01-10           35        70           7\n",
      "\n",
      "The frequency of the dataset is D.\n",
      "\n",
      "DataFrame with 'Date' as the index:\n",
      "            Temperature  Humidity  Wind_Speed\n",
      "Date                                         \n",
      "2021-01-01           30        80           5\n",
      "2021-01-02           31        75           6\n",
      "2021-01-03           29        70           7\n",
      "2021-01-04           32        85           8\n",
      "2021-01-05           33        90           9\n",
      "2021-01-06           34        80           4\n",
      "2021-01-07           28        75          10\n",
      "2021-01-08           27        60           5\n",
      "2021-01-09           25        65           6\n",
      "2021-01-10           35        70           7\n"
     ]
    }
   ],
   "source": [
    "#Exercise 8: Handling Time Series Data (Investor_data)\n",
    "import pandas as pd\n",
    "\n",
    "# Define the data points for Temperature, Humidity, and Wind_Speed columns\n",
    "temperature = [30, 31, 29, 32, 33, 34, 28, 27, 25, 35]\n",
    "humidity = [80, 75, 70, 85, 90, 80, 75, 60, 65, 70]\n",
    "wind_speed = [5, 6, 7, 8, 9, 4, 10, 5, 6, 7]\n",
    "\n",
    "# Create the Date column using pd.date_range\n",
    "date_rng = pd.date_range(start='2021-01-01', end='2021-01-10', freq='D')\n",
    "\n",
    "# Create a DataFrame with all of the columns\n",
    "weather_data = pd.DataFrame({\n",
    "    'Date': date_rng,\n",
    "    'Temperature': temperature,\n",
    "    'Humidity': humidity,\n",
    "    'Wind_Speed': wind_speed\n",
    "})\n",
    "\n",
    "print(\"DataFrame with Date, Temperature, Humidity, and Wind_Speed columns:\")\n",
    "print(weather_data)\n",
    "\n",
    "# Infer the frequency of the 'Date' column\n",
    "freq = pd.infer_freq(weather_data['Date'])\n",
    "print(f\"\\nThe frequency of the dataset is {freq}.\")\n",
    "\n",
    "# Set 'Date' as the index of the DataFrame\n",
    "weather_data.set_index('Date', inplace=True)\n",
    "\n",
    "# Display the DataFrame with 'Date' as the index\n",
    "print(\"\\nDataFrame with 'Date' as the index:\")\n",
    "print(weather_data)\n"
   ]
  }
 ],
 "metadata": {
  "kernelspec": {
   "display_name": "Python 3",
   "language": "python",
   "name": "python3"
  },
  "language_info": {
   "codemirror_mode": {
    "name": "ipython",
    "version": 3
   },
   "file_extension": ".py",
   "mimetype": "text/x-python",
   "name": "python",
   "nbconvert_exporter": "python",
   "pygments_lexer": "ipython3",
   "version": "3.12.3"
  }
 },
 "nbformat": 4,
 "nbformat_minor": 2
}
