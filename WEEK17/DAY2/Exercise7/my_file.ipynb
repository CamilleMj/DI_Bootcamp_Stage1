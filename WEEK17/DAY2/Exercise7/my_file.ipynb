{
 "cells": [
  {
   "cell_type": "code",
   "execution_count": 1,
   "metadata": {},
   "outputs": [
    {
     "name": "stdout",
     "output_type": "stream",
     "text": [
      "First 10 entries of the DataFrame:\n",
      "   Unnamed: 0     Id      Name  Year Gender State  Count\n",
      "0       11349  11350      Emma  2004      F    AK     62\n",
      "1       11350  11351   Madison  2004      F    AK     48\n",
      "2       11351  11352    Hannah  2004      F    AK     46\n",
      "3       11352  11353     Grace  2004      F    AK     44\n",
      "4       11353  11354     Emily  2004      F    AK     41\n",
      "5       11354  11355   Abigail  2004      F    AK     37\n",
      "6       11355  11356    Olivia  2004      F    AK     33\n",
      "7       11356  11357  Isabella  2004      F    AK     30\n",
      "8       11357  11358    Alyssa  2004      F    AK     29\n",
      "9       11358  11359    Sophia  2004      F    AK     28\n",
      "\n",
      "DataFrame after deleting 'Unnamed: 0' and 'Id' columns:\n",
      "       Name  Year Gender State  Count\n",
      "0      Emma  2004      F    AK     62\n",
      "1   Madison  2004      F    AK     48\n",
      "2    Hannah  2004      F    AK     46\n",
      "3     Grace  2004      F    AK     44\n",
      "4     Emily  2004      F    AK     41\n",
      "5   Abigail  2004      F    AK     37\n",
      "6    Olivia  2004      F    AK     33\n",
      "7  Isabella  2004      F    AK     30\n",
      "8    Alyssa  2004      F    AK     29\n",
      "9    Sophia  2004      F    AK     28\n"
     ]
    }
   ],
   "source": [
    "#Exercise 7: Descriptive Statistics (Baby_names)\n",
    "import pandas as pd\n",
    "\n",
    "baby_names = pd.read_csv('baby_names.csv')\n",
    "print(\"First 10 entries of the DataFrame:\")\n",
    "print(baby_names.head(10))\n",
    "\n",
    "# Delete the columns 'Unnamed: 0' and 'Id'\n",
    "baby_names = baby_names.drop(columns=['Unnamed: 0', 'Id'])\n",
    "\n",
    "# Display the DataFrame to ensure the columns are deleted\n",
    "print(\"\\nDataFrame after deleting 'Unnamed: 0' and 'Id' columns:\")\n",
    "print(baby_names.head(10))\n"
   ]
  }
 ],
 "metadata": {
  "kernelspec": {
   "display_name": "Python 3",
   "language": "python",
   "name": "python3"
  },
  "language_info": {
   "codemirror_mode": {
    "name": "ipython",
    "version": 3
   },
   "file_extension": ".py",
   "mimetype": "text/x-python",
   "name": "python",
   "nbconvert_exporter": "python",
   "pygments_lexer": "ipython3",
   "version": "3.12.3"
  }
 },
 "nbformat": 4,
 "nbformat_minor": 2
}
